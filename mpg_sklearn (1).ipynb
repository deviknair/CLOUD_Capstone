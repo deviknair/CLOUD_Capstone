{
 "cells": [
  {
   "cell_type": "code",
   "execution_count": 2,
   "id": "237896b2",
   "metadata": {},
   "outputs": [],
   "source": [
    "# import libraries\n",
    "import boto3, re, sys, math, json, os, sagemaker, urllib.request\n",
    "from sagemaker import get_execution_role\n",
    "import numpy as np\n",
    "import pandas as pd\n",
    "import matplotlib.pyplot as plt\n",
    "from IPython.display import Image\n",
    "from IPython.display import display\n",
    "from time import gmtime, strftime\n",
    "from sagemaker.predictor import csv_serializer\n"
   ]
  },
  {
   "cell_type": "code",
   "execution_count": 3,
   "id": "ba284c96",
   "metadata": {},
   "outputs": [],
   "source": [
    "# Define IAM role\n",
    "role = get_execution_role()\n",
    "prefix = 'sagemaker/DEMO-xgboost-dm'\n",
    "my_region = boto3.session.Session().region_name # set the region of the instance"
   ]
  },
  {
   "cell_type": "code",
   "execution_count": 4,
   "id": "b25f73e0",
   "metadata": {},
   "outputs": [
    {
     "name": "stdout",
     "output_type": "stream",
     "text": [
      "Success - the MySageMakerInstance is in the us-east-1 region. You will use the 811284229777.dkr.ecr.us-east-1.amazonaws.com/xgboost:latest container for your SageMaker endpoint.\n"
     ]
    }
   ],
   "source": [
    "# this line automatically looks for the XGBoost image URI and builds an XGBoost container.\n",
    "xgboost_container = sagemaker.image_uris.retrieve(\"xgboost\", my_region, \"latest\")\n",
    "\n",
    "print(\"Success - the MySageMakerInstance is in the \" + my_region + \" region. You will use the \" + xgboost_container + \" container for your SageMaker endpoint.\")\n"
   ]
  },
  {
   "cell_type": "code",
   "execution_count": 5,
   "id": "a2ae00a0",
   "metadata": {},
   "outputs": [
    {
     "name": "stdout",
     "output_type": "stream",
     "text": [
      "S3 bucket created successfully\n"
     ]
    }
   ],
   "source": [
    "# Run code\n",
    "# d. Create the S3 bucket to store your data. Copy and paste the following code into the next code cell and choose Run.\n",
    "\n",
    "# Note: Make sure to replace the bucket_name your-s3-bucket-name with a unique S3 bucket name. If you don't receive a success message after running the code, change the bucket name and try again.\n",
    "bucket_name = 'mpgbucket123' # <--- CHANGE THIS VARIABLE TO A UNIQUE NAME FOR YOUR BUCKET\n",
    "s3 = boto3.resource('s3')\n",
    "try:\n",
    "    if  my_region == 'us-east-1':\n",
    "      s3.create_bucket(Bucket=bucket_name)\n",
    "    else: \n",
    "      s3.create_bucket(Bucket=bucket_name, CreateBucketConfiguration={ 'LocationConstraint': my_region })\n",
    "    print('S3 bucket created successfully')\n",
    "except Exception as e:\n",
    "    print('S3 error: ',e)"
   ]
  },
  {
   "cell_type": "code",
   "execution_count": 6,
   "id": "013362cf",
   "metadata": {},
   "outputs": [
    {
     "name": "stdout",
     "output_type": "stream",
     "text": [
      "input/\n",
      "input/mpg.csv\n"
     ]
    }
   ],
   "source": [
    "bucket='mpgbucket123'\n",
    "subfolder ='input'\n",
    "from sagemaker import get_execution_role\n",
    "role=get_execution_role()\n",
    "conn=boto3.client('s3')\n",
    "contents=conn.list_objects(Bucket=bucket,Prefix=subfolder)['Contents']\n",
    "for f in contents:\n",
    "    print(f['Key'])"
   ]
  },
  {
   "cell_type": "code",
   "execution_count": 7,
   "id": "92356a0e",
   "metadata": {},
   "outputs": [
    {
     "name": "stdout",
     "output_type": "stream",
     "text": [
      "Success: downloaded mpg.csv.\n",
      "Success: Data loaded into dataframe.\n"
     ]
    }
   ],
   "source": [
    "try:\n",
    "  urllib.request.urlretrieve (\"https://shivamsksbucketmltest.s3.amazonaws.com/input/mpg.csv\", \"mpg.csv\")\n",
    "  print('Success: downloaded mpg.csv.')\n",
    "except Exception as e:\n",
    "  print('Data load error: ',e)\n",
    "\n",
    "try:\n",
    "  model_data = pd.read_csv('./mpg.csv',index_col=0)\n",
    "  print('Success: Data loaded into dataframe.')\n",
    "except Exception as e:\n",
    "    print('Data load error: ',e)"
   ]
  },
  {
   "cell_type": "code",
   "execution_count": 8,
   "id": "eb40146f",
   "metadata": {},
   "outputs": [
    {
     "data": {
      "text/plain": [
       "0      130\n",
       "1      165\n",
       "2      150\n",
       "3      150\n",
       "4      140\n",
       "      ... \n",
       "393     86\n",
       "394     52\n",
       "395     84\n",
       "396     79\n",
       "397     82\n",
       "Name: horsepower, Length: 398, dtype: object"
      ]
     },
     "execution_count": 8,
     "metadata": {},
     "output_type": "execute_result"
    }
   ],
   "source": [
    "model_data[\"horsepower\"]=model_data[\"horsepower\"].replace(\"?\",0)\n",
    "\n",
    "total=0\n",
    "count=0\n",
    "for i in model_data[\"horsepower\"]:\n",
    "    if i!=0:\n",
    "        count+=1\n",
    "        total+=int(i)\n",
    "model_data[\"horsepower\"]=model_data[\"horsepower\"].replace(0,total/count)\n",
    "model_data[\"horsepower\"]"
   ]
  },
  {
   "cell_type": "code",
   "execution_count": 13,
   "id": "3ddebeef",
   "metadata": {},
   "outputs": [
    {
     "name": "stdout",
     "output_type": "stream",
     "text": [
      "Training dataset size is  318\n",
      "Training dataset size is  80\n"
     ]
    }
   ],
   "source": [
    "from sklearn.model_selection import train_test_split\n",
    "train, test = train_test_split(model_data, test_size = 0.2, shuffle = True)\n",
    "print('Training dataset size is ', len(train))\n",
    "print('Training dataset size is ', len(test))\n"
   ]
  },
  {
   "cell_type": "code",
   "execution_count": 14,
   "id": "32151cb5",
   "metadata": {},
   "outputs": [],
   "source": [
    "features = ['cylinders', 'displacement', 'horsepower', 'weight', 'acceleration', 'model_year', 'origin']"
   ]
  },
  {
   "cell_type": "code",
   "execution_count": 15,
   "id": "c00dfc49",
   "metadata": {},
   "outputs": [],
   "source": [
    "train_x = train[features]\n",
    "train_y = train['mpg']\n",
    "test_x = train[features]\n",
    "test_y = train['mpg']"
   ]
  },
  {
   "cell_type": "code",
   "execution_count": 16,
   "id": "15dbed69",
   "metadata": {},
   "outputs": [],
   "source": [
    "from sklearn.linear_model import LinearRegression\n",
    "reg = LinearRegression().fit(train_x, train_y)"
   ]
  },
  {
   "cell_type": "code",
   "execution_count": 17,
   "id": "4cdc1238",
   "metadata": {},
   "outputs": [],
   "source": [
    "prediction = reg.predict(test_x)"
   ]
  },
  {
   "cell_type": "code",
   "execution_count": 19,
   "id": "c9c7fbf0",
   "metadata": {},
   "outputs": [
    {
     "name": "stdout",
     "output_type": "stream",
     "text": [
      "[24.  21.  14.  22.  18.5 43.1 26.5 13.  38.  19.2 17.  14.  34.  32.8\n",
      " 16.  26.  27.  26.  24.3 20.2 29.  33.  12.  30.5 30.  29.  22.  19.2\n",
      " 28.  29.  25.  17.5 14.  20.  21.  18.  34.5 30.  34.3 27.2 29.  19.\n",
      " 28.  19.4 19.  41.5 35.1 11.  23.  27.2 23.9 35.7 25.  28.  15.  36.\n",
      " 20.  30.  20.6 31.5 23.2 15.  15.  20.  15.5 21.  20.3 15.5 30.  18.2\n",
      " 11.  14.  31.  26.  13.  32.  31.  21.  21.  25.  17.6 25.  31.  18.6\n",
      " 22.  24.  14.  18.  16.  23.  15.  20.  20.  37.  29.8 28.  34.1 25.5\n",
      " 27.  31.  16.  28.  22.  17.7 28.  17.5 32.9 15.  23.9 22.  34.2 17.\n",
      " 26.  31.6 26.  32.  18.  14.  36.  15.  17.  20.  19.  34.7 13.  30.\n",
      " 19.2 25.1 24.  21.5 36.  24.  18.  27.  40.8 25.5 33.  39.1 31.8 33.7\n",
      " 13.  34.  40.9 19.  18.  18.5 17.5 14.  14.  31.  13.  36.1 28.1 21.\n",
      " 18.  26.  14.  26.  26.  16.5 34.1 21.1 23.  25.8 14.  43.4 27.  25.4\n",
      " 33.5 23.8 17.  13.  13.  29.5 32.2 22.  16.  14.  31.5 28.  23.  38.\n",
      " 21.5 14.  26.8 16.5 18.  33.  15.  16.  26.  19.  25.  11.  27.  32.7\n",
      " 23.6 16.5 16.2 20.  22.5 23.  13.  18.  30.9 32.  18.  17.5 18.  23.\n",
      " 33.8 20.2 15.5 15.  44.  20.8 30.7 39.  16.  34.5 17.  16.  18.  27.\n",
      " 18.  24.  30.  14.  32.3 27.  32.4 18.5 24.  21.6 14.  20.2 12.  16.\n",
      " 31.  13.  17.  19.  34.4 26.6 24.  37.  37.7 32.  18.  20.  10.  21.\n",
      " 20.5 16.  32.  15.5 18.  38.  19.4 29.  15.  24.2 39.4 44.6 16.  24.\n",
      " 17.  29.  31.  29.5 25.  21.5 13.  36.1 23.  20.6 22.3 17.6 18.  20.5\n",
      " 27.5 36.  26.  14.  26.  19.  23.7 29.8 14.5 26.6  9.  17.5 24.5 46.6\n",
      " 13.  44.3 25.  29.  14.  28.  24.5 26.  23.  15.  25.  24.  13.  20.2\n",
      " 26.4 28.  36.4 29.  19.  19.  13.  33.5 25.  38. ]\n",
      "[23.36847451 22.16785863 13.97924698 22.01283076 19.05920427 32.91084843\n",
      " 25.02581789 13.52249966 29.44709781 21.44296391 15.09012626 11.15893174\n",
      " 30.8370258  33.63208999 15.2828666  30.54024593 27.52199086 29.25108349\n",
      " 25.96422321 26.83065432 29.4242515  32.47269268  8.35226683 28.95622057\n",
      " 29.21860474 26.62072498 23.78438788 21.62424175 23.11465948 30.02203176\n",
      " 24.3996295  17.87435797 19.42028002 27.06087328 20.34412738 21.26632072\n",
      " 29.92802566 29.90474554 31.66566599 29.58231065 28.8868758  20.74506022\n",
      " 29.62249911 24.02194446 21.70347209 31.87748003 37.07879941  8.79492822\n",
      " 22.50980562 26.12039049 29.84477399 31.19722593 27.466123   25.78451801\n",
      " 10.19930436 30.83845404 23.3638692  24.92106854 23.05552205 32.3681868\n",
      " 25.49614974 12.82108627 14.7011649  20.9816867  16.12848686 24.74238754\n",
      " 25.51776399 19.62891242 28.18855445 20.79636694 16.29044327 11.72058911\n",
      " 30.30136667 25.17000183  8.2784024  36.40678912 32.35133286 24.02817049\n",
      " 22.73923514 25.24443077 21.03429706 23.99462983 29.03014317 20.67901671\n",
      " 26.05890918 26.03703279 13.04100105 19.38332521 12.2489784  27.10644238\n",
      " 14.28297888 22.95927431 20.57887057 31.36918121 34.24719174 23.81436083\n",
      " 35.47925826 24.43730803 28.23921449 36.65196825 19.81798186 30.25063456\n",
      " 21.03048266 20.10142942 24.77022465 23.12180847 30.65276373 18.11972644\n",
      " 24.51613859 22.71146998 29.29117111 16.65938126 25.46042449 31.6320327\n",
      " 27.58924697 31.16436527 22.50354195 11.58177355 32.7556658  15.46414003\n",
      " 23.05024078 22.74992033 24.56091902 31.21490433  9.79641699 26.21050814\n",
      " 22.12434559 25.45870132 26.73067712 25.63173589 34.99308167 23.54174564\n",
      " 17.2525898  25.01057005 34.19046186 27.15749789 32.57549416 37.23858244\n",
      " 34.04125781 33.80026707 10.70890254 34.87827812 33.65661061 19.84808067\n",
      " 19.77326896 21.44317614 20.81401583 12.8269774  11.62401458 28.96862139\n",
      " 11.11848987 31.52441959 26.55387163 21.29271713 21.71163909 26.83134293\n",
      " 10.07038677 24.12293586 25.79084705 20.26212722 33.75640707 29.41207081\n",
      " 21.14052954 28.74103103 15.87772303 32.31543899 27.87213978 23.61718269\n",
      " 32.48708894 25.13803548 17.4303817  16.74521471 17.78297693 32.21465562\n",
      " 32.74026951 19.15662516 15.07243108 10.49523014 31.31752237 27.7695299\n",
      " 22.86577381 36.29525509 23.73989572 11.72998977 25.99106769 17.17108886\n",
      " 17.31470846 33.36753994 13.43781045 12.00159053 26.60819831 20.8264208\n",
      " 23.50282375  9.62766298 28.25201927 27.38485433 25.20008629 13.64872631\n",
      " 21.25679106 23.50593575 23.38468527 23.98738363 14.97103293 21.52099935\n",
      " 28.36594745 31.38158902 15.25161265 14.79872577 20.04591477 26.44858425\n",
      " 33.97834333 21.05569974 15.82059882 14.04826292 35.65320479 24.33265815\n",
      " 26.89492415 33.48277357 11.66420742 31.02200715 17.28653755 15.94294981\n",
      " 18.91328459 27.16478884 17.40948704 27.25674782 25.56971655 10.06122411\n",
      " 35.34003359 25.81854926 32.88385162 20.2964575  21.5868664  25.36965112\n",
      " 10.15811002 24.95782827  8.86574457 15.84127614 28.04051601 11.49112889\n",
      " 15.06974383 22.65104641 32.46278411 29.00206864 22.15183683 36.34498403\n",
      " 35.29015768 30.13156212 21.01434858 18.88638726  6.88092959 20.55899328\n",
      " 21.25496322 16.6234768  31.31160684 17.19006729 15.42495904 36.26686457\n",
      " 20.26030548 30.84988528 15.59187229 28.17215322 32.66690445 35.32986374\n",
      " 18.00999603 27.70476261 20.55953698 30.18189982 29.29554611 30.66390768\n",
      " 27.46892243 25.444749   12.37767242 34.64086309 24.67519951 22.21706224\n",
      " 25.32506268 24.42684627 26.76354714 22.04033749 28.98708263 32.34829182\n",
      " 28.23167863 12.07510672 29.82113401 24.3010025  29.88385424 29.80968472\n",
      " 15.57792303 25.15425886  5.90904702 17.81466789 28.59670084 34.00642623\n",
      " 15.47702393 33.82670132 22.29336985 29.18218569 13.87367732 25.5561167\n",
      " 24.85401718 25.71056641 24.21697191 13.61873889 28.75079426 26.68335631\n",
      " 16.93422893 24.58667318 26.40690383 29.5548187  27.41617192 29.26180604\n",
      " 17.87950392 17.69474156 10.27080805 27.32875373 24.76256499 32.64979182]\n"
     ]
    }
   ],
   "source": [
    "from sklearn.metrics import mean_squared_error\n",
    "mean_squared_error(test_y, prediction)\n",
    "print(np.array(test_y))\n",
    "print(prediction)"
   ]
  },
  {
   "cell_type": "code",
   "execution_count": null,
   "id": "5d86fe2b",
   "metadata": {},
   "outputs": [],
   "source": []
  }
 ],
 "metadata": {
  "kernelspec": {
   "display_name": "conda_python3",
   "language": "python",
   "name": "conda_python3"
  },
  "language_info": {
   "codemirror_mode": {
    "name": "ipython",
    "version": 3
   },
   "file_extension": ".py",
   "mimetype": "text/x-python",
   "name": "python",
   "nbconvert_exporter": "python",
   "pygments_lexer": "ipython3",
   "version": "3.8.12"
  }
 },
 "nbformat": 4,
 "nbformat_minor": 5
}
